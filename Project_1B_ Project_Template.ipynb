{
 "cells": [
  {
   "cell_type": "markdown",
   "metadata": {},
   "source": [
    "# Part I. ETL Pipeline for Pre-Processing the Files\n",
    "#### Import Python packages "
   ]
  },
  {
   "cell_type": "code",
   "execution_count": 72,
   "metadata": {},
   "outputs": [],
   "source": [
    "# Import Python packages\n",
    "\n",
    "import csv\n",
    "import glob\n",
    "import os\n"
   ]
  },
  {
   "cell_type": "markdown",
   "metadata": {},
   "source": [
    "#### Creating list of filepaths to process original event csv data files"
   ]
  },
  {
   "cell_type": "code",
   "execution_count": 73,
   "metadata": {},
   "outputs": [],
   "source": [
    "# Get your current folder and subfolder event data\n",
    "filepath = os.getcwd() + '/event_data'\n",
    "\n",
    "# Create a for loop to create a list of files and collect each filepath\n",
    "for root, dirs, files in os.walk(filepath):\n",
    "    \n",
    "# join the file path and roots with the subdirectories using glob\n",
    "    file_path_list = glob.glob(os.path.join(root,'*'))\n"
   ]
  },
  {
   "cell_type": "markdown",
   "metadata": {},
   "source": [
    "#### Processing the files to create the data file csv that will be used for Apache Casssandra tables"
   ]
  },
  {
   "cell_type": "code",
   "execution_count": 74,
   "metadata": {},
   "outputs": [],
   "source": [
    "# initiating an empty list of rows that will be generated from each file\n",
    "full_data_rows_list = [] \n",
    "    \n",
    "# for every filepath in the file path list \n",
    "for f in file_path_list:\n",
    "\n",
    "# reading csv file \n",
    "    with open(f, 'r', encoding = 'utf8', newline='') as csvfile: \n",
    "        # creating a csv reader object \n",
    "        csvreader = csv.reader(csvfile) \n",
    "        next(csvreader)\n",
    "        \n",
    " # extracting each data row one by one and append it        \n",
    "        for line in csvreader:\n",
    "            full_data_rows_list.append(line)\n",
    "            \n",
    "\n",
    "# creating a smaller event data csv file called event_datafile_full csv that will be used to insert data into the \\\n",
    "# Apache Cassandra tables\n",
    "csv.register_dialect('myDialect', quoting=csv.QUOTE_ALL, skipinitialspace=True)\n",
    "\n",
    "with open('event_datafile_new.csv', 'w', encoding = 'utf8', newline='') as f:\n",
    "    writer = csv.writer(f, dialect='myDialect')\n",
    "    writer.writerow(['artist','firstName','gender','itemInSession','lastName','length',\\\n",
    "                'level','location','sessionId','song','userId'])\n",
    "    for row in full_data_rows_list:\n",
    "        if (row[0] == ''):\n",
    "            continue\n",
    "        writer.writerow((row[0], row[2], row[3], row[4], row[5], row[6], row[7], row[8], row[12], row[13], row[16]))\n"
   ]
  },
  {
   "cell_type": "code",
   "execution_count": 75,
   "metadata": {},
   "outputs": [
    {
     "name": "stdout",
     "output_type": "stream",
     "text": [
      "6821\n"
     ]
    }
   ],
   "source": [
    "# check the number of rows in your csv file\n",
    "with open('event_datafile_new.csv', 'r', encoding = 'utf8') as f:\n",
    "    print(sum(1 for line in f))"
   ]
  },
  {
   "cell_type": "markdown",
   "metadata": {},
   "source": [
    "# Part II. Complete the Apache Cassandra coding portion of your project. \n",
    "\n",
    "## Now you are ready to work with the CSV file titled <font color=red>event_datafile_new.csv</font>, located within the Workspace directory.  The event_datafile_new.csv contains the following columns: \n",
    "- artist \n",
    "- firstName of user\n",
    "- gender of user\n",
    "- item number in session\n",
    "- last name of user\n",
    "- length of the song\n",
    "- level (paid or free song)\n",
    "- location of the user\n",
    "- sessionId\n",
    "- song title\n",
    "- userId\n",
    "\n",
    "The image below is a screenshot of what the denormalized data should appear like in the <font color=red>**event_datafile_new.csv**</font> after the code above is run:<br>\n",
    "\n",
    "<img src=\"images/image_event_datafile_new.jpg\">"
   ]
  },
  {
   "cell_type": "markdown",
   "metadata": {},
   "source": [
    "## Begin writing your Apache Cassandra code in the cells below"
   ]
  },
  {
   "cell_type": "markdown",
   "metadata": {},
   "source": [
    "#### Creating a Cluster"
   ]
  },
  {
   "cell_type": "code",
   "execution_count": 76,
   "metadata": {},
   "outputs": [],
   "source": [
    "# This should make a connection to a Cassandra instance your local machine \n",
    "# (127.0.0.1)\n",
    "\n",
    "from cassandra.cluster import Cluster\n",
    "cluster = Cluster()\n",
    "\n",
    "# To establish connection and begin executing queries, need a session\n",
    "session = cluster.connect()"
   ]
  },
  {
   "cell_type": "markdown",
   "metadata": {},
   "source": [
    "#### Create Keyspace"
   ]
  },
  {
   "cell_type": "code",
   "execution_count": 77,
   "metadata": {},
   "outputs": [],
   "source": [
    "# Create a Keyspace \n",
    "try:\n",
    "    session.execute(\"\"\"\n",
    "    CREATE KEYSPACE IF NOT EXISTS sparkify \n",
    "    WITH REPLICATION = \n",
    "    { 'class' : 'SimpleStrategy', 'replication_factor' : 1 }\"\"\"\n",
    ")\n",
    "\n",
    "except Exception as e:\n",
    "    print(e)"
   ]
  },
  {
   "cell_type": "markdown",
   "metadata": {},
   "source": [
    "#### Set Keyspace"
   ]
  },
  {
   "cell_type": "code",
   "execution_count": 78,
   "metadata": {},
   "outputs": [],
   "source": [
    "# Set KEYSPACE to the keyspace specified above\n",
    "try:\n",
    "    session.set_keyspace('sparkify')\n",
    "except Exception as e:\n",
    "    print(e)"
   ]
  },
  {
   "cell_type": "markdown",
   "metadata": {},
   "source": [
    "### Now we need to create tables to run the following queries. Remember, with Apache Cassandra you model the database tables on the queries you want to run."
   ]
  },
  {
   "cell_type": "markdown",
   "metadata": {},
   "source": [
    "## Create queries to ask the following three questions of the data\n",
    "\n",
    "### 1. Give me the artist, song title and song's length in the music app history that was heard during  sessionId = 338, and itemInSession  = 4\n",
    "\n",
    "\n",
    "### 2. Give me only the following: name of artist, song (sorted by itemInSession) and user (first and last name) for userid = 10, sessionid = 182\n",
    "    \n",
    "\n",
    "### 3. Give me every user name (first and last) in my music app history who listened to the song 'All Hands Against His Own'\n",
    "\n",
    "\n"
   ]
  },
  {
   "cell_type": "markdown",
   "metadata": {
    "pycharm": {
     "name": "#%% md\n"
    }
   },
   "source": [
    "## Query 1:  Give me the artist, song title and song's length in the music app history that was heard during \\\n",
    "## sessionId = 338, and itemInSession = 4\n",
    "\n",
    "Our SELECT query would be:\n",
    "\n",
    "> SELECT artist, song_title, song_length FROM sessions WHERE session_id=338 and item_in_session=4\n",
    "\n",
    "So, our table for this query would basically consists of the columns mentioned in the above query with the primary key composed of the columns in the  WHERE clause. We go ahead and create the this 'sessions' table:"
   ]
  },
  {
   "cell_type": "code",
   "execution_count": 79,
   "outputs": [],
   "source": [
    "try:\n",
    "    session.execute(\"\"\"\n",
    "        CREATE TABLE IF NOT EXISTS sessions (session_id int, item_in_session int,\n",
    "            artist text, song_title text, song_length float,\n",
    "            PRIMARY KEY(session_id, item_in_session))\n",
    "    \"\"\")\n",
    "except Exception as e:\n",
    "    print(e)"
   ],
   "metadata": {
    "collapsed": false,
    "pycharm": {
     "name": "#%%\n"
    }
   }
  },
  {
   "cell_type": "code",
   "execution_count": 80,
   "metadata": {},
   "outputs": [],
   "source": [
    "# Insert the data in the table\n",
    "\n",
    "file = 'event_datafile_new.csv'\n",
    "\n",
    "with open(file, encoding = 'utf8') as f:\n",
    "    csvreader = csv.reader(f)\n",
    "    next(csvreader) # skip header\n",
    "    sessions_insert_query_template = \"INSERT INTO sessions (session_id, item_in_session, artist, \" \\\n",
    "                                     \"song_title, song_length) VALUES (%s, %s, %s, %s, %s)\"\n",
    "\n",
    "    for line in csvreader:\n",
    "        artist, _, _, item_in_session, _, song_length, _, _, session_id, song_title, _ = line\n",
    "        session.execute(sessions_insert_query_template, (int(session_id), int(item_in_session),\n",
    "                                                         artist, song_title, float(song_length)))"
   ]
  },
  {
   "cell_type": "markdown",
   "metadata": {},
   "source": [
    "#### Do a SELECT to verify that the data have been inserted into sessions table"
   ]
  },
  {
   "cell_type": "code",
   "execution_count": 81,
   "metadata": {
    "scrolled": true
   },
   "outputs": [
    {
     "name": "stdout",
     "output_type": "stream",
     "text": [
      "Artist: Faithless, Song title: Music Matters (Mark Knight Dub), Song length: 495.30731201171875\n"
     ]
    }
   ],
   "source": [
    "select_session_query = \"SELECT artist, song_title, song_length FROM sessions WHERE session_id=338 and item_in_session=4\"\n",
    "try:\n",
    "    rows = session.execute(select_session_query)\n",
    "    for row in rows:\n",
    "        print(f\"Artist: {row.artist}, Song title: {row.song_title}, Song length: {row.song_length}\")\n",
    "except Exception as e:\n",
    "    print(e)\n",
    "\n",
    "\n"
   ]
  },
  {
   "cell_type": "markdown",
   "source": [
    "## Query 2: Give me only the following: name of artist, song (sorted by itemInSession) and user (first and last name)\\\n",
    "## for userid = 10, sessionid = 182\n",
    "\n",
    "Our SELECT query would be:\n",
    "\n",
    "> SELECT artist, song_title, item_in_session, first_name, last_name FROM user_sessions\n",
    "> WHERE user_id=10 AND session_id=182\n",
    "\n",
    "So, our table for this query would basically consists of the columns mentioned in the above query with the primary key\n",
    "composed of the columns in the WHERE clause plus there could be multiple songs in one user session and we want\n",
    "the result to be sorted by item in session and hence we also add it in the partition key component of the Primary Key.\n",
    "<br><br>\n",
    "We go ahead and create the this 'user_sessions' table:"
   ],
   "metadata": {
    "collapsed": false,
    "pycharm": {
     "name": "#%% md\n"
    }
   }
  },
  {
   "cell_type": "code",
   "execution_count": 82,
   "outputs": [],
   "source": [
    "try:\n",
    "    session.execute(\"\"\"\n",
    "        CREATE TABLE IF NOT EXISTS user_sessions (user_id int, session_id int,\n",
    "            artist text, song_title text, item_in_session int, first_name text, last_name text,\n",
    "            PRIMARY KEY((user_id, session_id), item_in_session))\n",
    "    \"\"\")\n",
    "except Exception as e:\n",
    "    print(e)"
   ],
   "metadata": {
    "collapsed": false,
    "pycharm": {
     "name": "#%%\n"
    }
   }
  },
  {
   "cell_type": "code",
   "execution_count": 83,
   "outputs": [],
   "source": [
    "# Insert the data in the table\n",
    "\n",
    "file = 'event_datafile_new.csv'\n",
    "\n",
    "with open(file, encoding = 'utf8') as f:\n",
    "    csvreader = csv.reader(f)\n",
    "    next(csvreader) # skip header\n",
    "    sessions_insert_query_template = \"INSERT INTO user_sessions (user_id, session_id, artist, song_title, \" \\\n",
    "                                     \"item_in_session, first_name, last_name) VALUES (%s, %s, %s, %s, %s, %s, %s)\"\n",
    "\n",
    "    for line in csvreader:\n",
    "        artist, first_name, _, item_in_session, last_name, _, _, _, session_id, song_title, user_id = line\n",
    "        session.execute(sessions_insert_query_template, (int(user_id), int(session_id), artist, song_title,\n",
    "                                                         int(item_in_session), first_name, last_name))"
   ],
   "metadata": {
    "collapsed": false,
    "pycharm": {
     "name": "#%%\n"
    }
   }
  },
  {
   "cell_type": "markdown",
   "source": [
    "#### Do a SELECT to verify that the data have been inserted into user_sessions table"
   ],
   "metadata": {
    "collapsed": false
   }
  },
  {
   "cell_type": "code",
   "execution_count": 84,
   "outputs": [
    {
     "name": "stdout",
     "output_type": "stream",
     "text": [
      "Artist: Down To The Bone, Song title: Keep On Keepin' On, Item in Session: 0, User Name: Sylvie Cruz\n",
      "Artist: Three Drives, Song title: Greece 2000, Item in Session: 1, User Name: Sylvie Cruz\n",
      "Artist: Sebastien Tellier, Song title: Kilometer, Item in Session: 2, User Name: Sylvie Cruz\n",
      "Artist: Lonnie Gordon, Song title: Catch You Baby (Steve Pitron & Max Sanna Radio Edit), Item in Session: 3, User Name: Sylvie Cruz\n"
     ]
    }
   ],
   "source": [
    "select_user_session_query = \"SELECT artist, song_title, item_in_session, first_name, last_name\" \\\n",
    "                       \" FROM user_sessions WHERE user_id=10 AND session_id=182\"\n",
    "try:\n",
    "    rows = session.execute(select_user_session_query)\n",
    "    for row in rows:\n",
    "        print(f\"Artist: {row.artist}, Song title: {row.song_title}, Item in Session: {row.item_in_session}, \"\n",
    "              f\"User Name: {row.first_name + ' ' + row.last_name}\")\n",
    "except Exception as e:\n",
    "    print(e)\n",
    "\n",
    "                    "
   ],
   "metadata": {
    "collapsed": false,
    "pycharm": {
     "name": "#%%\n"
    }
   }
  },
  {
   "cell_type": "markdown",
   "source": [
    "## Query 3: Give me every user name (first and last) in my music app history who listened to the song 'All Hands Against His Own'\n",
    "\n",
    "Our SELECT query would be:\n",
    "\n",
    "> SELECT first_name, last_name FROM user_songs WHERE song_title='All Hands Against His Own';\n",
    "\n",
    "So, our table for this query would basically consists of the columns mentioned in the above query with the primary key\n",
    "composed of the columns in the WHERE clause plus there could be multiple users listening to one song and we don't want\n",
    "users overwriting each other (as per Cassandra's property) for a song and hence we also add user's identifier 'user_id'\n",
    "as the partition key component of the Primary Key.\n",
    "<br><br>\n",
    "We go ahead and create the this 'user_sessions' table:\n",
    "                    "
   ],
   "metadata": {
    "collapsed": false,
    "pycharm": {
     "name": "#%% md\n"
    }
   }
  },
  {
   "cell_type": "code",
   "execution_count": 85,
   "metadata": {},
   "outputs": [],
   "source": [
    "try:\n",
    "    session.execute(\"\"\"\n",
    "        CREATE TABLE IF NOT EXISTS user_songs (user_id int, song_title text, first_name text, last_name text,\n",
    "        PRIMARY KEY(song_title, user_id))\n",
    "    \"\"\")\n",
    "except Exception as e:\n",
    "    print(e)\n"
   ]
  },
  {
   "cell_type": "code",
   "execution_count": 86,
   "metadata": {},
   "outputs": [],
   "source": [
    "# Insert the data in the table\n",
    "\n",
    "\n",
    "file = 'event_datafile_new.csv'\n",
    "\n",
    "with open(file, encoding = 'utf8') as f:\n",
    "    csvreader = csv.reader(f)\n",
    "    next(csvreader) # skip header\n",
    "    sessions_insert_query_template = \"INSERT INTO user_songs (user_id, song_title, \" \\\n",
    "                                     \"first_name, last_name) VALUES (%s, %s, %s, %s)\"\n",
    "\n",
    "    for line in csvreader:\n",
    "        _, first_name, _, _, last_name, _, _, _, _, song_title, user_id = line\n",
    "        session.execute(sessions_insert_query_template, (int(user_id), song_title,\n",
    "                                                         first_name, last_name))\n"
   ]
  },
  {
   "cell_type": "markdown",
   "source": [
    "#### Do a SELECT to verify that the data have been inserted into user_songs table"
   ],
   "metadata": {
    "collapsed": false
   }
  },
  {
   "cell_type": "code",
   "execution_count": 87,
   "outputs": [
    {
     "name": "stdout",
     "output_type": "stream",
     "text": [
      "User Name: Jacqueline Lynch\n",
      "User Name: Tegan Levine\n",
      "User Name: Sara Johnson\n"
     ]
    }
   ],
   "source": [
    "select_user_songs_query = \"SELECT first_name, last_name FROM user_songs \" \\\n",
    "                            \"WHERE song_title='All Hands Against His Own'\"\n",
    "try:\n",
    "    rows = session.execute(select_user_songs_query)\n",
    "    for row in rows:\n",
    "        print(f\"User Name: {row.first_name + ' ' + row.last_name}\")\n",
    "except Exception as e:\n",
    "    print(e)"
   ],
   "metadata": {
    "collapsed": false,
    "pycharm": {
     "name": "#%%\n"
    }
   }
  },
  {
   "cell_type": "markdown",
   "metadata": {},
   "source": [
    "### Drop the tables before closing out the sessions"
   ]
  },
  {
   "cell_type": "code",
   "execution_count": 88,
   "metadata": {},
   "outputs": [
    {
     "data": {
      "text/plain": "<cassandra.cluster.ResultSet at 0x115179390>"
     },
     "execution_count": 88,
     "metadata": {},
     "output_type": "execute_result"
    }
   ],
   "source": [
    "session.execute(\"DROP TABLE sessions\")\n",
    "\n",
    "session.execute(\"DROP TABLE user_sessions\")\n",
    "\n",
    "session.execute(\"DROP TABLE user_songs\")\n"
   ]
  },
  {
   "cell_type": "markdown",
   "metadata": {},
   "source": [
    "### Close the session and cluster connection¶"
   ]
  },
  {
   "cell_type": "code",
   "execution_count": 89,
   "metadata": {
    "pycharm": {
     "name": "#%%\n"
    }
   },
   "outputs": [],
   "source": [
    "session.shutdown()\n",
    "cluster.shutdown()"
   ]
  },
  {
   "cell_type": "code",
   "execution_count": null,
   "outputs": [],
   "source": [
    "\n"
   ],
   "metadata": {
    "collapsed": false,
    "pycharm": {
     "name": "#%%\n"
    }
   }
  }
 ],
 "metadata": {
  "kernelspec": {
   "name": "pycharm-7d7fba3d",
   "language": "python",
   "display_name": "PyCharm (data-modelling-postgres)"
  },
  "language_info": {
   "codemirror_mode": {
    "name": "ipython",
    "version": 3
   },
   "file_extension": ".py",
   "mimetype": "text/x-python",
   "name": "python",
   "nbconvert_exporter": "python",
   "pygments_lexer": "ipython3",
   "version": "3.7.7"
  }
 },
 "nbformat": 4,
 "nbformat_minor": 4
}